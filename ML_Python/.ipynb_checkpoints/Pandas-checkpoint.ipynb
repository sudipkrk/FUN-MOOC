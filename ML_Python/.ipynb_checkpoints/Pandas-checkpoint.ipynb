{
 "cells": [
  {
   "cell_type": "markdown",
   "id": "2def1f86",
   "metadata": {},
   "source": [
    "## Pandas\n",
    "Learning basics of pandas from pandas website [10 minutes to pandas](https://pandas.pydata.org/pandas-docs/stable/user_guide/10min.html). "
   ]
  },
  {
   "cell_type": "markdown",
   "id": "af309ea6",
   "metadata": {},
   "source": [
    "### Import essentials:\n",
    "Import **NumPy** and **Pandas**."
   ]
  },
  {
   "cell_type": "code",
   "execution_count": 1,
   "id": "190ebbf6",
   "metadata": {},
   "outputs": [],
   "source": [
    "### Import numpy and pandas \n",
    "import numpy as np\n",
    "import pandas as pd"
   ]
  },
  {
   "cell_type": "markdown",
   "id": "29e8b003",
   "metadata": {},
   "source": [
    "### Object creation"
   ]
  },
  {
   "cell_type": "code",
   "execution_count": 2,
   "id": "1baa48a7",
   "metadata": {},
   "outputs": [
    {
     "data": {
      "text/plain": [
       "0    1.0\n",
       "1    2.0\n",
       "2    3.0\n",
       "3    4.0\n",
       "4    NaN\n",
       "5    5.0\n",
       "6    6.0\n",
       "7    7.0\n",
       "dtype: float64"
      ]
     },
     "execution_count": 2,
     "metadata": {},
     "output_type": "execute_result"
    }
   ],
   "source": [
    "# Create a series by passing the list of values \n",
    "A = pd.Series([1,2,3,4,np.nan,5,6,7])\n",
    "\n",
    "#Display the results\n",
    "A\n"
   ]
  },
  {
   "cell_type": "code",
   "execution_count": 3,
   "id": "bb815412",
   "metadata": {},
   "outputs": [
    {
     "data": {
      "text/html": [
       "<div>\n",
       "<style scoped>\n",
       "    .dataframe tbody tr th:only-of-type {\n",
       "        vertical-align: middle;\n",
       "    }\n",
       "\n",
       "    .dataframe tbody tr th {\n",
       "        vertical-align: top;\n",
       "    }\n",
       "\n",
       "    .dataframe thead th {\n",
       "        text-align: right;\n",
       "    }\n",
       "</style>\n",
       "<table border=\"1\" class=\"dataframe\">\n",
       "  <thead>\n",
       "    <tr style=\"text-align: right;\">\n",
       "      <th></th>\n",
       "      <th>A</th>\n",
       "      <th>B</th>\n",
       "      <th>C</th>\n",
       "      <th>D</th>\n",
       "    </tr>\n",
       "  </thead>\n",
       "  <tbody>\n",
       "    <tr>\n",
       "      <th>2013-01-01</th>\n",
       "      <td>0.071389</td>\n",
       "      <td>0.007500</td>\n",
       "      <td>0.155793</td>\n",
       "      <td>0.678333</td>\n",
       "    </tr>\n",
       "    <tr>\n",
       "      <th>2013-01-02</th>\n",
       "      <td>-1.394066</td>\n",
       "      <td>0.189310</td>\n",
       "      <td>0.365064</td>\n",
       "      <td>0.524033</td>\n",
       "    </tr>\n",
       "    <tr>\n",
       "      <th>2013-01-03</th>\n",
       "      <td>0.201639</td>\n",
       "      <td>0.227478</td>\n",
       "      <td>-0.771621</td>\n",
       "      <td>0.167946</td>\n",
       "    </tr>\n",
       "    <tr>\n",
       "      <th>2013-01-04</th>\n",
       "      <td>-0.084451</td>\n",
       "      <td>0.067631</td>\n",
       "      <td>0.503081</td>\n",
       "      <td>-0.584886</td>\n",
       "    </tr>\n",
       "    <tr>\n",
       "      <th>2013-01-05</th>\n",
       "      <td>0.928780</td>\n",
       "      <td>0.711642</td>\n",
       "      <td>0.922892</td>\n",
       "      <td>-0.697446</td>\n",
       "    </tr>\n",
       "    <tr>\n",
       "      <th>2013-01-06</th>\n",
       "      <td>0.361195</td>\n",
       "      <td>-0.899091</td>\n",
       "      <td>-1.210832</td>\n",
       "      <td>-0.322670</td>\n",
       "    </tr>\n",
       "  </tbody>\n",
       "</table>\n",
       "</div>"
      ],
      "text/plain": [
       "                   A         B         C         D\n",
       "2013-01-01  0.071389  0.007500  0.155793  0.678333\n",
       "2013-01-02 -1.394066  0.189310  0.365064  0.524033\n",
       "2013-01-03  0.201639  0.227478 -0.771621  0.167946\n",
       "2013-01-04 -0.084451  0.067631  0.503081 -0.584886\n",
       "2013-01-05  0.928780  0.711642  0.922892 -0.697446\n",
       "2013-01-06  0.361195 -0.899091 -1.210832 -0.322670"
      ]
     },
     "execution_count": 3,
     "metadata": {},
     "output_type": "execute_result"
    }
   ],
   "source": [
    "# Create a dataframe by passing NumPy array with date time indexing using data_range() and labelled column\n",
    "dates = pd.date_range(\"20130101\", periods = 6)\n",
    "dates\n",
    "\n",
    "df = pd.DataFrame(np.random.randn(6,4), index= dates, columns=list(\"ABCD\"))\n",
    "df"
   ]
  },
  {
   "cell_type": "markdown",
   "id": "ea64683a",
   "metadata": {},
   "source": [
    "Create a data frame by passing a dictionary of objects that can be converted into a series-like structure."
   ]
  },
  {
   "cell_type": "code",
   "execution_count": 4,
   "id": "7e9f666e",
   "metadata": {},
   "outputs": [
    {
     "data": {
      "text/html": [
       "<div>\n",
       "<style scoped>\n",
       "    .dataframe tbody tr th:only-of-type {\n",
       "        vertical-align: middle;\n",
       "    }\n",
       "\n",
       "    .dataframe tbody tr th {\n",
       "        vertical-align: top;\n",
       "    }\n",
       "\n",
       "    .dataframe thead th {\n",
       "        text-align: right;\n",
       "    }\n",
       "</style>\n",
       "<table border=\"1\" class=\"dataframe\">\n",
       "  <thead>\n",
       "    <tr style=\"text-align: right;\">\n",
       "      <th></th>\n",
       "      <th>A</th>\n",
       "      <th>B</th>\n",
       "      <th>C</th>\n",
       "      <th>D</th>\n",
       "      <th>E</th>\n",
       "      <th>F</th>\n",
       "    </tr>\n",
       "  </thead>\n",
       "  <tbody>\n",
       "    <tr>\n",
       "      <th>0</th>\n",
       "      <td>1.0</td>\n",
       "      <td>2013-01-01</td>\n",
       "      <td>1.0</td>\n",
       "      <td>3</td>\n",
       "      <td>test</td>\n",
       "      <td>foo</td>\n",
       "    </tr>\n",
       "    <tr>\n",
       "      <th>1</th>\n",
       "      <td>1.0</td>\n",
       "      <td>2013-01-01</td>\n",
       "      <td>1.0</td>\n",
       "      <td>3</td>\n",
       "      <td>train</td>\n",
       "      <td>foo</td>\n",
       "    </tr>\n",
       "    <tr>\n",
       "      <th>2</th>\n",
       "      <td>1.0</td>\n",
       "      <td>2013-01-01</td>\n",
       "      <td>1.0</td>\n",
       "      <td>3</td>\n",
       "      <td>test</td>\n",
       "      <td>foo</td>\n",
       "    </tr>\n",
       "    <tr>\n",
       "      <th>3</th>\n",
       "      <td>1.0</td>\n",
       "      <td>2013-01-01</td>\n",
       "      <td>1.0</td>\n",
       "      <td>3</td>\n",
       "      <td>train</td>\n",
       "      <td>foo</td>\n",
       "    </tr>\n",
       "  </tbody>\n",
       "</table>\n",
       "</div>"
      ],
      "text/plain": [
       "     A          B    C  D      E    F\n",
       "0  1.0 2013-01-01  1.0  3   test  foo\n",
       "1  1.0 2013-01-01  1.0  3  train  foo\n",
       "2  1.0 2013-01-01  1.0  3   test  foo\n",
       "3  1.0 2013-01-01  1.0  3  train  foo"
      ]
     },
     "execution_count": 4,
     "metadata": {},
     "output_type": "execute_result"
    }
   ],
   "source": [
    "df2 = pd.DataFrame({\n",
    "    \"A\":1.0,\n",
    "    \"B\":pd.Timestamp(\"20130101\"),\n",
    "    \"C\":pd.Series(1, index=list(range(4)), dtype= \"float32\"),\n",
    "    \"D\":np.array([3] *4, dtype= \"int32\"),\n",
    "    \"E\":pd.Categorical([\"test\", \"train\", \"test\", \"train\"]),\n",
    "    \"F\":\"foo\"\n",
    "})\n",
    "\n",
    "df2"
   ]
  },
  {
   "cell_type": "markdown",
   "id": "72fd7e11",
   "metadata": {},
   "source": [
    "Know the different datatypes in the data frame \n"
   ]
  },
  {
   "cell_type": "code",
   "execution_count": 5,
   "id": "e281b455",
   "metadata": {},
   "outputs": [
    {
     "data": {
      "text/plain": [
       "A           float64\n",
       "B    datetime64[ns]\n",
       "C           float32\n",
       "D             int32\n",
       "E          category\n",
       "F            object\n",
       "dtype: object"
      ]
     },
     "execution_count": 5,
     "metadata": {},
     "output_type": "execute_result"
    }
   ],
   "source": [
    "df2.dtypes"
   ]
  },
  {
   "cell_type": "markdown",
   "id": "e6dc2ab9",
   "metadata": {},
   "source": [
    "Viewing data "
   ]
  },
  {
   "cell_type": "code",
   "execution_count": 6,
   "id": "748e86a0",
   "metadata": {},
   "outputs": [
    {
     "data": {
      "text/html": [
       "<div>\n",
       "<style scoped>\n",
       "    .dataframe tbody tr th:only-of-type {\n",
       "        vertical-align: middle;\n",
       "    }\n",
       "\n",
       "    .dataframe tbody tr th {\n",
       "        vertical-align: top;\n",
       "    }\n",
       "\n",
       "    .dataframe thead th {\n",
       "        text-align: right;\n",
       "    }\n",
       "</style>\n",
       "<table border=\"1\" class=\"dataframe\">\n",
       "  <thead>\n",
       "    <tr style=\"text-align: right;\">\n",
       "      <th></th>\n",
       "      <th>A</th>\n",
       "      <th>B</th>\n",
       "      <th>C</th>\n",
       "      <th>D</th>\n",
       "    </tr>\n",
       "  </thead>\n",
       "  <tbody>\n",
       "    <tr>\n",
       "      <th>2013-01-01</th>\n",
       "      <td>0.071389</td>\n",
       "      <td>0.007500</td>\n",
       "      <td>0.155793</td>\n",
       "      <td>0.678333</td>\n",
       "    </tr>\n",
       "    <tr>\n",
       "      <th>2013-01-02</th>\n",
       "      <td>-1.394066</td>\n",
       "      <td>0.189310</td>\n",
       "      <td>0.365064</td>\n",
       "      <td>0.524033</td>\n",
       "    </tr>\n",
       "    <tr>\n",
       "      <th>2013-01-03</th>\n",
       "      <td>0.201639</td>\n",
       "      <td>0.227478</td>\n",
       "      <td>-0.771621</td>\n",
       "      <td>0.167946</td>\n",
       "    </tr>\n",
       "    <tr>\n",
       "      <th>2013-01-04</th>\n",
       "      <td>-0.084451</td>\n",
       "      <td>0.067631</td>\n",
       "      <td>0.503081</td>\n",
       "      <td>-0.584886</td>\n",
       "    </tr>\n",
       "    <tr>\n",
       "      <th>2013-01-05</th>\n",
       "      <td>0.928780</td>\n",
       "      <td>0.711642</td>\n",
       "      <td>0.922892</td>\n",
       "      <td>-0.697446</td>\n",
       "    </tr>\n",
       "  </tbody>\n",
       "</table>\n",
       "</div>"
      ],
      "text/plain": [
       "                   A         B         C         D\n",
       "2013-01-01  0.071389  0.007500  0.155793  0.678333\n",
       "2013-01-02 -1.394066  0.189310  0.365064  0.524033\n",
       "2013-01-03  0.201639  0.227478 -0.771621  0.167946\n",
       "2013-01-04 -0.084451  0.067631  0.503081 -0.584886\n",
       "2013-01-05  0.928780  0.711642  0.922892 -0.697446"
      ]
     },
     "execution_count": 6,
     "metadata": {},
     "output_type": "execute_result"
    }
   ],
   "source": [
    "df.head() #for the top rows"
   ]
  },
  {
   "cell_type": "code",
   "execution_count": 7,
   "id": "e905597f",
   "metadata": {},
   "outputs": [
    {
     "data": {
      "text/html": [
       "<div>\n",
       "<style scoped>\n",
       "    .dataframe tbody tr th:only-of-type {\n",
       "        vertical-align: middle;\n",
       "    }\n",
       "\n",
       "    .dataframe tbody tr th {\n",
       "        vertical-align: top;\n",
       "    }\n",
       "\n",
       "    .dataframe thead th {\n",
       "        text-align: right;\n",
       "    }\n",
       "</style>\n",
       "<table border=\"1\" class=\"dataframe\">\n",
       "  <thead>\n",
       "    <tr style=\"text-align: right;\">\n",
       "      <th></th>\n",
       "      <th>A</th>\n",
       "      <th>B</th>\n",
       "      <th>C</th>\n",
       "      <th>D</th>\n",
       "    </tr>\n",
       "  </thead>\n",
       "  <tbody>\n",
       "    <tr>\n",
       "      <th>2013-01-04</th>\n",
       "      <td>-0.084451</td>\n",
       "      <td>0.067631</td>\n",
       "      <td>0.503081</td>\n",
       "      <td>-0.584886</td>\n",
       "    </tr>\n",
       "    <tr>\n",
       "      <th>2013-01-05</th>\n",
       "      <td>0.928780</td>\n",
       "      <td>0.711642</td>\n",
       "      <td>0.922892</td>\n",
       "      <td>-0.697446</td>\n",
       "    </tr>\n",
       "    <tr>\n",
       "      <th>2013-01-06</th>\n",
       "      <td>0.361195</td>\n",
       "      <td>-0.899091</td>\n",
       "      <td>-1.210832</td>\n",
       "      <td>-0.322670</td>\n",
       "    </tr>\n",
       "  </tbody>\n",
       "</table>\n",
       "</div>"
      ],
      "text/plain": [
       "                   A         B         C         D\n",
       "2013-01-04 -0.084451  0.067631  0.503081 -0.584886\n",
       "2013-01-05  0.928780  0.711642  0.922892 -0.697446\n",
       "2013-01-06  0.361195 -0.899091 -1.210832 -0.322670"
      ]
     },
     "execution_count": 7,
     "metadata": {},
     "output_type": "execute_result"
    }
   ],
   "source": [
    "df.tail(3) #bottom 3 rows"
   ]
  },
  {
   "cell_type": "markdown",
   "id": "a1b9cbbf",
   "metadata": {},
   "source": [
    "DataFrame.to_numpy() gives NumPy representation of the underlying data.\n",
    "**NumPy**: *NumPy arrays have one data type for the entire array, while \n",
    "pandas DataFrame have one data type per column*."
   ]
  },
  {
   "cell_type": "code",
   "execution_count": 8,
   "id": "e4a99b6e",
   "metadata": {},
   "outputs": [
    {
     "data": {
      "text/plain": [
       "array([[ 0.07138912,  0.0075004 ,  0.15579331,  0.67833345],\n",
       "       [-1.39406575,  0.18930986,  0.3650638 ,  0.52403346],\n",
       "       [ 0.20163935,  0.22747781, -0.77162131,  0.16794568],\n",
       "       [-0.08445058,  0.06763127,  0.50308064, -0.58488619],\n",
       "       [ 0.92878018,  0.71164203,  0.92289245, -0.69744641],\n",
       "       [ 0.36119497, -0.89909083, -1.2108322 , -0.3226704 ]])"
      ]
     },
     "execution_count": 8,
     "metadata": {},
     "output_type": "execute_result"
    }
   ],
   "source": [
    "df.to_numpy()"
   ]
  },
  {
   "cell_type": "code",
   "execution_count": 9,
   "id": "c479c7d9",
   "metadata": {},
   "outputs": [
    {
     "data": {
      "text/html": [
       "<div>\n",
       "<style scoped>\n",
       "    .dataframe tbody tr th:only-of-type {\n",
       "        vertical-align: middle;\n",
       "    }\n",
       "\n",
       "    .dataframe tbody tr th {\n",
       "        vertical-align: top;\n",
       "    }\n",
       "\n",
       "    .dataframe thead th {\n",
       "        text-align: right;\n",
       "    }\n",
       "</style>\n",
       "<table border=\"1\" class=\"dataframe\">\n",
       "  <thead>\n",
       "    <tr style=\"text-align: right;\">\n",
       "      <th></th>\n",
       "      <th>A</th>\n",
       "      <th>B</th>\n",
       "      <th>C</th>\n",
       "      <th>D</th>\n",
       "    </tr>\n",
       "  </thead>\n",
       "  <tbody>\n",
       "    <tr>\n",
       "      <th>count</th>\n",
       "      <td>6.000000</td>\n",
       "      <td>6.000000</td>\n",
       "      <td>6.000000</td>\n",
       "      <td>6.000000</td>\n",
       "    </tr>\n",
       "    <tr>\n",
       "      <th>mean</th>\n",
       "      <td>0.014081</td>\n",
       "      <td>0.050745</td>\n",
       "      <td>-0.005937</td>\n",
       "      <td>-0.039115</td>\n",
       "    </tr>\n",
       "    <tr>\n",
       "      <th>std</th>\n",
       "      <td>0.773073</td>\n",
       "      <td>0.527553</td>\n",
       "      <td>0.815312</td>\n",
       "      <td>0.580760</td>\n",
       "    </tr>\n",
       "    <tr>\n",
       "      <th>min</th>\n",
       "      <td>-1.394066</td>\n",
       "      <td>-0.899091</td>\n",
       "      <td>-1.210832</td>\n",
       "      <td>-0.697446</td>\n",
       "    </tr>\n",
       "    <tr>\n",
       "      <th>25%</th>\n",
       "      <td>-0.045491</td>\n",
       "      <td>0.022533</td>\n",
       "      <td>-0.539768</td>\n",
       "      <td>-0.519332</td>\n",
       "    </tr>\n",
       "    <tr>\n",
       "      <th>50%</th>\n",
       "      <td>0.136514</td>\n",
       "      <td>0.128471</td>\n",
       "      <td>0.260429</td>\n",
       "      <td>-0.077362</td>\n",
       "    </tr>\n",
       "    <tr>\n",
       "      <th>75%</th>\n",
       "      <td>0.321306</td>\n",
       "      <td>0.217936</td>\n",
       "      <td>0.468576</td>\n",
       "      <td>0.435012</td>\n",
       "    </tr>\n",
       "    <tr>\n",
       "      <th>max</th>\n",
       "      <td>0.928780</td>\n",
       "      <td>0.711642</td>\n",
       "      <td>0.922892</td>\n",
       "      <td>0.678333</td>\n",
       "    </tr>\n",
       "  </tbody>\n",
       "</table>\n",
       "</div>"
      ],
      "text/plain": [
       "              A         B         C         D\n",
       "count  6.000000  6.000000  6.000000  6.000000\n",
       "mean   0.014081  0.050745 -0.005937 -0.039115\n",
       "std    0.773073  0.527553  0.815312  0.580760\n",
       "min   -1.394066 -0.899091 -1.210832 -0.697446\n",
       "25%   -0.045491  0.022533 -0.539768 -0.519332\n",
       "50%    0.136514  0.128471  0.260429 -0.077362\n",
       "75%    0.321306  0.217936  0.468576  0.435012\n",
       "max    0.928780  0.711642  0.922892  0.678333"
      ]
     },
     "execution_count": 9,
     "metadata": {},
     "output_type": "execute_result"
    }
   ],
   "source": [
    "# Summary statistics\n",
    "df.describe()"
   ]
  },
  {
   "cell_type": "code",
   "execution_count": 10,
   "id": "9ec168a6",
   "metadata": {},
   "outputs": [
    {
     "data": {
      "text/html": [
       "<div>\n",
       "<style scoped>\n",
       "    .dataframe tbody tr th:only-of-type {\n",
       "        vertical-align: middle;\n",
       "    }\n",
       "\n",
       "    .dataframe tbody tr th {\n",
       "        vertical-align: top;\n",
       "    }\n",
       "\n",
       "    .dataframe thead th {\n",
       "        text-align: right;\n",
       "    }\n",
       "</style>\n",
       "<table border=\"1\" class=\"dataframe\">\n",
       "  <thead>\n",
       "    <tr style=\"text-align: right;\">\n",
       "      <th></th>\n",
       "      <th>2013-01-01</th>\n",
       "      <th>2013-01-02</th>\n",
       "      <th>2013-01-03</th>\n",
       "      <th>2013-01-04</th>\n",
       "      <th>2013-01-05</th>\n",
       "      <th>2013-01-06</th>\n",
       "    </tr>\n",
       "  </thead>\n",
       "  <tbody>\n",
       "    <tr>\n",
       "      <th>A</th>\n",
       "      <td>0.071389</td>\n",
       "      <td>-1.394066</td>\n",
       "      <td>0.201639</td>\n",
       "      <td>-0.084451</td>\n",
       "      <td>0.928780</td>\n",
       "      <td>0.361195</td>\n",
       "    </tr>\n",
       "    <tr>\n",
       "      <th>B</th>\n",
       "      <td>0.007500</td>\n",
       "      <td>0.189310</td>\n",
       "      <td>0.227478</td>\n",
       "      <td>0.067631</td>\n",
       "      <td>0.711642</td>\n",
       "      <td>-0.899091</td>\n",
       "    </tr>\n",
       "    <tr>\n",
       "      <th>C</th>\n",
       "      <td>0.155793</td>\n",
       "      <td>0.365064</td>\n",
       "      <td>-0.771621</td>\n",
       "      <td>0.503081</td>\n",
       "      <td>0.922892</td>\n",
       "      <td>-1.210832</td>\n",
       "    </tr>\n",
       "    <tr>\n",
       "      <th>D</th>\n",
       "      <td>0.678333</td>\n",
       "      <td>0.524033</td>\n",
       "      <td>0.167946</td>\n",
       "      <td>-0.584886</td>\n",
       "      <td>-0.697446</td>\n",
       "      <td>-0.322670</td>\n",
       "    </tr>\n",
       "  </tbody>\n",
       "</table>\n",
       "</div>"
      ],
      "text/plain": [
       "   2013-01-01  2013-01-02  2013-01-03  2013-01-04  2013-01-05  2013-01-06\n",
       "A    0.071389   -1.394066    0.201639   -0.084451    0.928780    0.361195\n",
       "B    0.007500    0.189310    0.227478    0.067631    0.711642   -0.899091\n",
       "C    0.155793    0.365064   -0.771621    0.503081    0.922892   -1.210832\n",
       "D    0.678333    0.524033    0.167946   -0.584886   -0.697446   -0.322670"
      ]
     },
     "execution_count": 10,
     "metadata": {},
     "output_type": "execute_result"
    }
   ],
   "source": [
    "# transposing the data \n",
    "df.T"
   ]
  },
  {
   "cell_type": "code",
   "execution_count": 11,
   "id": "664f9791",
   "metadata": {},
   "outputs": [
    {
     "data": {
      "text/html": [
       "<div>\n",
       "<style scoped>\n",
       "    .dataframe tbody tr th:only-of-type {\n",
       "        vertical-align: middle;\n",
       "    }\n",
       "\n",
       "    .dataframe tbody tr th {\n",
       "        vertical-align: top;\n",
       "    }\n",
       "\n",
       "    .dataframe thead th {\n",
       "        text-align: right;\n",
       "    }\n",
       "</style>\n",
       "<table border=\"1\" class=\"dataframe\">\n",
       "  <thead>\n",
       "    <tr style=\"text-align: right;\">\n",
       "      <th></th>\n",
       "      <th>D</th>\n",
       "      <th>C</th>\n",
       "      <th>B</th>\n",
       "      <th>A</th>\n",
       "    </tr>\n",
       "  </thead>\n",
       "  <tbody>\n",
       "    <tr>\n",
       "      <th>2013-01-01</th>\n",
       "      <td>0.678333</td>\n",
       "      <td>0.155793</td>\n",
       "      <td>0.007500</td>\n",
       "      <td>0.071389</td>\n",
       "    </tr>\n",
       "    <tr>\n",
       "      <th>2013-01-02</th>\n",
       "      <td>0.524033</td>\n",
       "      <td>0.365064</td>\n",
       "      <td>0.189310</td>\n",
       "      <td>-1.394066</td>\n",
       "    </tr>\n",
       "    <tr>\n",
       "      <th>2013-01-03</th>\n",
       "      <td>0.167946</td>\n",
       "      <td>-0.771621</td>\n",
       "      <td>0.227478</td>\n",
       "      <td>0.201639</td>\n",
       "    </tr>\n",
       "    <tr>\n",
       "      <th>2013-01-04</th>\n",
       "      <td>-0.584886</td>\n",
       "      <td>0.503081</td>\n",
       "      <td>0.067631</td>\n",
       "      <td>-0.084451</td>\n",
       "    </tr>\n",
       "    <tr>\n",
       "      <th>2013-01-05</th>\n",
       "      <td>-0.697446</td>\n",
       "      <td>0.922892</td>\n",
       "      <td>0.711642</td>\n",
       "      <td>0.928780</td>\n",
       "    </tr>\n",
       "    <tr>\n",
       "      <th>2013-01-06</th>\n",
       "      <td>-0.322670</td>\n",
       "      <td>-1.210832</td>\n",
       "      <td>-0.899091</td>\n",
       "      <td>0.361195</td>\n",
       "    </tr>\n",
       "  </tbody>\n",
       "</table>\n",
       "</div>"
      ],
      "text/plain": [
       "                   D         C         B         A\n",
       "2013-01-01  0.678333  0.155793  0.007500  0.071389\n",
       "2013-01-02  0.524033  0.365064  0.189310 -1.394066\n",
       "2013-01-03  0.167946 -0.771621  0.227478  0.201639\n",
       "2013-01-04 -0.584886  0.503081  0.067631 -0.084451\n",
       "2013-01-05 -0.697446  0.922892  0.711642  0.928780\n",
       "2013-01-06 -0.322670 -1.210832 -0.899091  0.361195"
      ]
     },
     "execution_count": 11,
     "metadata": {},
     "output_type": "execute_result"
    }
   ],
   "source": [
    "# Sort the data frame by axis\n",
    "df.sort_index(axis=1, ascending=False)"
   ]
  },
  {
   "cell_type": "code",
   "execution_count": 12,
   "id": "529ed258",
   "metadata": {},
   "outputs": [
    {
     "data": {
      "text/html": [
       "<div>\n",
       "<style scoped>\n",
       "    .dataframe tbody tr th:only-of-type {\n",
       "        vertical-align: middle;\n",
       "    }\n",
       "\n",
       "    .dataframe tbody tr th {\n",
       "        vertical-align: top;\n",
       "    }\n",
       "\n",
       "    .dataframe thead th {\n",
       "        text-align: right;\n",
       "    }\n",
       "</style>\n",
       "<table border=\"1\" class=\"dataframe\">\n",
       "  <thead>\n",
       "    <tr style=\"text-align: right;\">\n",
       "      <th></th>\n",
       "      <th>A</th>\n",
       "      <th>B</th>\n",
       "      <th>C</th>\n",
       "      <th>D</th>\n",
       "    </tr>\n",
       "  </thead>\n",
       "  <tbody>\n",
       "    <tr>\n",
       "      <th>2013-01-06</th>\n",
       "      <td>0.361195</td>\n",
       "      <td>-0.899091</td>\n",
       "      <td>-1.210832</td>\n",
       "      <td>-0.322670</td>\n",
       "    </tr>\n",
       "    <tr>\n",
       "      <th>2013-01-01</th>\n",
       "      <td>0.071389</td>\n",
       "      <td>0.007500</td>\n",
       "      <td>0.155793</td>\n",
       "      <td>0.678333</td>\n",
       "    </tr>\n",
       "    <tr>\n",
       "      <th>2013-01-04</th>\n",
       "      <td>-0.084451</td>\n",
       "      <td>0.067631</td>\n",
       "      <td>0.503081</td>\n",
       "      <td>-0.584886</td>\n",
       "    </tr>\n",
       "    <tr>\n",
       "      <th>2013-01-02</th>\n",
       "      <td>-1.394066</td>\n",
       "      <td>0.189310</td>\n",
       "      <td>0.365064</td>\n",
       "      <td>0.524033</td>\n",
       "    </tr>\n",
       "    <tr>\n",
       "      <th>2013-01-03</th>\n",
       "      <td>0.201639</td>\n",
       "      <td>0.227478</td>\n",
       "      <td>-0.771621</td>\n",
       "      <td>0.167946</td>\n",
       "    </tr>\n",
       "    <tr>\n",
       "      <th>2013-01-05</th>\n",
       "      <td>0.928780</td>\n",
       "      <td>0.711642</td>\n",
       "      <td>0.922892</td>\n",
       "      <td>-0.697446</td>\n",
       "    </tr>\n",
       "  </tbody>\n",
       "</table>\n",
       "</div>"
      ],
      "text/plain": [
       "                   A         B         C         D\n",
       "2013-01-06  0.361195 -0.899091 -1.210832 -0.322670\n",
       "2013-01-01  0.071389  0.007500  0.155793  0.678333\n",
       "2013-01-04 -0.084451  0.067631  0.503081 -0.584886\n",
       "2013-01-02 -1.394066  0.189310  0.365064  0.524033\n",
       "2013-01-03  0.201639  0.227478 -0.771621  0.167946\n",
       "2013-01-05  0.928780  0.711642  0.922892 -0.697446"
      ]
     },
     "execution_count": 12,
     "metadata": {},
     "output_type": "execute_result"
    }
   ],
   "source": [
    "# sort by values\n",
    "df.sort_values(by =\"B\")"
   ]
  },
  {
   "cell_type": "markdown",
   "id": "797efbd5",
   "metadata": {},
   "source": [
    "### Selection"
   ]
  },
  {
   "cell_type": "code",
   "execution_count": 13,
   "id": "95c16375",
   "metadata": {},
   "outputs": [
    {
     "data": {
      "text/plain": [
       "2013-01-01    0.071389\n",
       "2013-01-02   -1.394066\n",
       "2013-01-03    0.201639\n",
       "2013-01-04   -0.084451\n",
       "2013-01-05    0.928780\n",
       "2013-01-06    0.361195\n",
       "Freq: D, Name: A, dtype: float64"
      ]
     },
     "execution_count": 13,
     "metadata": {},
     "output_type": "execute_result"
    }
   ],
   "source": [
    "#Selecting a single column\n",
    "df[\"A\"]"
   ]
  },
  {
   "cell_type": "code",
   "execution_count": 14,
   "id": "ebfd213d",
   "metadata": {},
   "outputs": [
    {
     "data": {
      "text/html": [
       "<div>\n",
       "<style scoped>\n",
       "    .dataframe tbody tr th:only-of-type {\n",
       "        vertical-align: middle;\n",
       "    }\n",
       "\n",
       "    .dataframe tbody tr th {\n",
       "        vertical-align: top;\n",
       "    }\n",
       "\n",
       "    .dataframe thead th {\n",
       "        text-align: right;\n",
       "    }\n",
       "</style>\n",
       "<table border=\"1\" class=\"dataframe\">\n",
       "  <thead>\n",
       "    <tr style=\"text-align: right;\">\n",
       "      <th></th>\n",
       "      <th>A</th>\n",
       "      <th>B</th>\n",
       "      <th>C</th>\n",
       "      <th>D</th>\n",
       "    </tr>\n",
       "  </thead>\n",
       "  <tbody>\n",
       "    <tr>\n",
       "      <th>2013-01-01</th>\n",
       "      <td>0.071389</td>\n",
       "      <td>0.007500</td>\n",
       "      <td>0.155793</td>\n",
       "      <td>0.678333</td>\n",
       "    </tr>\n",
       "    <tr>\n",
       "      <th>2013-01-02</th>\n",
       "      <td>-1.394066</td>\n",
       "      <td>0.189310</td>\n",
       "      <td>0.365064</td>\n",
       "      <td>0.524033</td>\n",
       "    </tr>\n",
       "    <tr>\n",
       "      <th>2013-01-03</th>\n",
       "      <td>0.201639</td>\n",
       "      <td>0.227478</td>\n",
       "      <td>-0.771621</td>\n",
       "      <td>0.167946</td>\n",
       "    </tr>\n",
       "  </tbody>\n",
       "</table>\n",
       "</div>"
      ],
      "text/plain": [
       "                   A         B         C         D\n",
       "2013-01-01  0.071389  0.007500  0.155793  0.678333\n",
       "2013-01-02 -1.394066  0.189310  0.365064  0.524033\n",
       "2013-01-03  0.201639  0.227478 -0.771621  0.167946"
      ]
     },
     "execution_count": 14,
     "metadata": {},
     "output_type": "execute_result"
    }
   ],
   "source": [
    "#Selecting via [] (_getitem_), which slices rows\n",
    "df[0:3]\n"
   ]
  },
  {
   "cell_type": "code",
   "execution_count": 17,
   "id": "d98bd42a",
   "metadata": {},
   "outputs": [
    {
     "data": {
      "text/html": [
       "<div>\n",
       "<style scoped>\n",
       "    .dataframe tbody tr th:only-of-type {\n",
       "        vertical-align: middle;\n",
       "    }\n",
       "\n",
       "    .dataframe tbody tr th {\n",
       "        vertical-align: top;\n",
       "    }\n",
       "\n",
       "    .dataframe thead th {\n",
       "        text-align: right;\n",
       "    }\n",
       "</style>\n",
       "<table border=\"1\" class=\"dataframe\">\n",
       "  <thead>\n",
       "    <tr style=\"text-align: right;\">\n",
       "      <th></th>\n",
       "      <th>A</th>\n",
       "      <th>B</th>\n",
       "      <th>C</th>\n",
       "      <th>D</th>\n",
       "    </tr>\n",
       "  </thead>\n",
       "  <tbody>\n",
       "    <tr>\n",
       "      <th>2013-01-02</th>\n",
       "      <td>-1.394066</td>\n",
       "      <td>0.189310</td>\n",
       "      <td>0.365064</td>\n",
       "      <td>0.524033</td>\n",
       "    </tr>\n",
       "    <tr>\n",
       "      <th>2013-01-03</th>\n",
       "      <td>0.201639</td>\n",
       "      <td>0.227478</td>\n",
       "      <td>-0.771621</td>\n",
       "      <td>0.167946</td>\n",
       "    </tr>\n",
       "    <tr>\n",
       "      <th>2013-01-04</th>\n",
       "      <td>-0.084451</td>\n",
       "      <td>0.067631</td>\n",
       "      <td>0.503081</td>\n",
       "      <td>-0.584886</td>\n",
       "    </tr>\n",
       "  </tbody>\n",
       "</table>\n",
       "</div>"
      ],
      "text/plain": [
       "                   A         B         C         D\n",
       "2013-01-02 -1.394066  0.189310  0.365064  0.524033\n",
       "2013-01-03  0.201639  0.227478 -0.771621  0.167946\n",
       "2013-01-04 -0.084451  0.067631  0.503081 -0.584886"
      ]
     },
     "execution_count": 17,
     "metadata": {},
     "output_type": "execute_result"
    }
   ],
   "source": [
    "df[\"20130102\":\"20130104\"]"
   ]
  },
  {
   "cell_type": "code",
   "execution_count": 18,
   "id": "cc6c1f10",
   "metadata": {},
   "outputs": [
    {
     "data": {
      "text/plain": [
       "A    0.071389\n",
       "B    0.007500\n",
       "C    0.155793\n",
       "D    0.678333\n",
       "Name: 2013-01-01 00:00:00, dtype: float64"
      ]
     },
     "execution_count": 18,
     "metadata": {},
     "output_type": "execute_result"
    }
   ],
   "source": [
    "# selecting by label\n",
    "df.loc[dates[0]]"
   ]
  },
  {
   "cell_type": "code",
   "execution_count": 19,
   "id": "da86f27e",
   "metadata": {},
   "outputs": [
    {
     "data": {
      "text/html": [
       "<div>\n",
       "<style scoped>\n",
       "    .dataframe tbody tr th:only-of-type {\n",
       "        vertical-align: middle;\n",
       "    }\n",
       "\n",
       "    .dataframe tbody tr th {\n",
       "        vertical-align: top;\n",
       "    }\n",
       "\n",
       "    .dataframe thead th {\n",
       "        text-align: right;\n",
       "    }\n",
       "</style>\n",
       "<table border=\"1\" class=\"dataframe\">\n",
       "  <thead>\n",
       "    <tr style=\"text-align: right;\">\n",
       "      <th></th>\n",
       "      <th>A</th>\n",
       "      <th>B</th>\n",
       "    </tr>\n",
       "  </thead>\n",
       "  <tbody>\n",
       "    <tr>\n",
       "      <th>2013-01-01</th>\n",
       "      <td>0.071389</td>\n",
       "      <td>0.007500</td>\n",
       "    </tr>\n",
       "    <tr>\n",
       "      <th>2013-01-02</th>\n",
       "      <td>-1.394066</td>\n",
       "      <td>0.189310</td>\n",
       "    </tr>\n",
       "    <tr>\n",
       "      <th>2013-01-03</th>\n",
       "      <td>0.201639</td>\n",
       "      <td>0.227478</td>\n",
       "    </tr>\n",
       "    <tr>\n",
       "      <th>2013-01-04</th>\n",
       "      <td>-0.084451</td>\n",
       "      <td>0.067631</td>\n",
       "    </tr>\n",
       "    <tr>\n",
       "      <th>2013-01-05</th>\n",
       "      <td>0.928780</td>\n",
       "      <td>0.711642</td>\n",
       "    </tr>\n",
       "    <tr>\n",
       "      <th>2013-01-06</th>\n",
       "      <td>0.361195</td>\n",
       "      <td>-0.899091</td>\n",
       "    </tr>\n",
       "  </tbody>\n",
       "</table>\n",
       "</div>"
      ],
      "text/plain": [
       "                   A         B\n",
       "2013-01-01  0.071389  0.007500\n",
       "2013-01-02 -1.394066  0.189310\n",
       "2013-01-03  0.201639  0.227478\n",
       "2013-01-04 -0.084451  0.067631\n",
       "2013-01-05  0.928780  0.711642\n",
       "2013-01-06  0.361195 -0.899091"
      ]
     },
     "execution_count": 19,
     "metadata": {},
     "output_type": "execute_result"
    }
   ],
   "source": [
    "# selecting multiple-axis by label\n",
    "df.loc[:,[\"A\", \"B\"]]"
   ]
  },
  {
   "cell_type": "code",
   "execution_count": 20,
   "id": "8b0539dd",
   "metadata": {},
   "outputs": [
    {
     "data": {
      "text/html": [
       "<div>\n",
       "<style scoped>\n",
       "    .dataframe tbody tr th:only-of-type {\n",
       "        vertical-align: middle;\n",
       "    }\n",
       "\n",
       "    .dataframe tbody tr th {\n",
       "        vertical-align: top;\n",
       "    }\n",
       "\n",
       "    .dataframe thead th {\n",
       "        text-align: right;\n",
       "    }\n",
       "</style>\n",
       "<table border=\"1\" class=\"dataframe\">\n",
       "  <thead>\n",
       "    <tr style=\"text-align: right;\">\n",
       "      <th></th>\n",
       "      <th>A</th>\n",
       "      <th>B</th>\n",
       "    </tr>\n",
       "  </thead>\n",
       "  <tbody>\n",
       "    <tr>\n",
       "      <th>2013-01-02</th>\n",
       "      <td>-1.394066</td>\n",
       "      <td>0.189310</td>\n",
       "    </tr>\n",
       "    <tr>\n",
       "      <th>2013-01-03</th>\n",
       "      <td>0.201639</td>\n",
       "      <td>0.227478</td>\n",
       "    </tr>\n",
       "    <tr>\n",
       "      <th>2013-01-04</th>\n",
       "      <td>-0.084451</td>\n",
       "      <td>0.067631</td>\n",
       "    </tr>\n",
       "  </tbody>\n",
       "</table>\n",
       "</div>"
      ],
      "text/plain": [
       "                   A         B\n",
       "2013-01-02 -1.394066  0.189310\n",
       "2013-01-03  0.201639  0.227478\n",
       "2013-01-04 -0.084451  0.067631"
      ]
     },
     "execution_count": 20,
     "metadata": {},
     "output_type": "execute_result"
    }
   ],
   "source": [
    "# Showing label slicing both endpoints are included\n",
    "df.loc[\"20130102\":\"20130104\", [\"A\", \"B\"]]"
   ]
  },
  {
   "cell_type": "code",
   "execution_count": 21,
   "id": "44b62db8",
   "metadata": {},
   "outputs": [
    {
     "data": {
      "text/plain": [
       "A   -1.394066\n",
       "B    0.189310\n",
       "Name: 2013-01-02 00:00:00, dtype: float64"
      ]
     },
     "execution_count": 21,
     "metadata": {},
     "output_type": "execute_result"
    }
   ],
   "source": [
    "# Reduction in the dimension of the returned object\n",
    "df.loc[\"20130102\", [\"A\", \"B\"]]"
   ]
  },
  {
   "cell_type": "code",
   "execution_count": 22,
   "id": "5a02bc33",
   "metadata": {},
   "outputs": [
    {
     "data": {
      "text/plain": [
       "0.07138912357726222"
      ]
     },
     "execution_count": 22,
     "metadata": {},
     "output_type": "execute_result"
    }
   ],
   "source": [
    "#For getting scalar value\n",
    "df.loc[dates[0], \"A\"]"
   ]
  },
  {
   "cell_type": "code",
   "execution_count": 23,
   "id": "8c4a52ee",
   "metadata": {},
   "outputs": [
    {
     "data": {
      "text/plain": [
       "0.07138912357726222"
      ]
     },
     "execution_count": 23,
     "metadata": {},
     "output_type": "execute_result"
    }
   ],
   "source": [
    "df.at[dates[0], \"A\"]"
   ]
  },
  {
   "cell_type": "markdown",
   "id": "51d2c534",
   "metadata": {},
   "source": [
    "**Selection by position**\n",
    "*Using DataFrame.iloc()  or DataFrame.at()*"
   ]
  },
  {
   "cell_type": "code",
   "execution_count": 24,
   "id": "778cc609",
   "metadata": {},
   "outputs": [
    {
     "data": {
      "text/plain": [
       "A   -0.084451\n",
       "B    0.067631\n",
       "C    0.503081\n",
       "D   -0.584886\n",
       "Name: 2013-01-04 00:00:00, dtype: float64"
      ]
     },
     "execution_count": 24,
     "metadata": {},
     "output_type": "execute_result"
    }
   ],
   "source": [
    "df.iloc[3]"
   ]
  },
  {
   "cell_type": "code",
   "execution_count": 25,
   "id": "4dcef22f",
   "metadata": {},
   "outputs": [
    {
     "data": {
      "text/html": [
       "<div>\n",
       "<style scoped>\n",
       "    .dataframe tbody tr th:only-of-type {\n",
       "        vertical-align: middle;\n",
       "    }\n",
       "\n",
       "    .dataframe tbody tr th {\n",
       "        vertical-align: top;\n",
       "    }\n",
       "\n",
       "    .dataframe thead th {\n",
       "        text-align: right;\n",
       "    }\n",
       "</style>\n",
       "<table border=\"1\" class=\"dataframe\">\n",
       "  <thead>\n",
       "    <tr style=\"text-align: right;\">\n",
       "      <th></th>\n",
       "      <th>A</th>\n",
       "      <th>B</th>\n",
       "    </tr>\n",
       "  </thead>\n",
       "  <tbody>\n",
       "    <tr>\n",
       "      <th>2013-01-04</th>\n",
       "      <td>-0.084451</td>\n",
       "      <td>0.067631</td>\n",
       "    </tr>\n",
       "    <tr>\n",
       "      <th>2013-01-05</th>\n",
       "      <td>0.928780</td>\n",
       "      <td>0.711642</td>\n",
       "    </tr>\n",
       "  </tbody>\n",
       "</table>\n",
       "</div>"
      ],
      "text/plain": [
       "                   A         B\n",
       "2013-01-04 -0.084451  0.067631\n",
       "2013-01-05  0.928780  0.711642"
      ]
     },
     "execution_count": 25,
     "metadata": {},
     "output_type": "execute_result"
    }
   ],
   "source": [
    "#integer slice \n",
    "df.iloc[3:5, 0:2]"
   ]
  },
  {
   "cell_type": "code",
   "execution_count": 26,
   "id": "8984cb5a",
   "metadata": {},
   "outputs": [
    {
     "data": {
      "text/html": [
       "<div>\n",
       "<style scoped>\n",
       "    .dataframe tbody tr th:only-of-type {\n",
       "        vertical-align: middle;\n",
       "    }\n",
       "\n",
       "    .dataframe tbody tr th {\n",
       "        vertical-align: top;\n",
       "    }\n",
       "\n",
       "    .dataframe thead th {\n",
       "        text-align: right;\n",
       "    }\n",
       "</style>\n",
       "<table border=\"1\" class=\"dataframe\">\n",
       "  <thead>\n",
       "    <tr style=\"text-align: right;\">\n",
       "      <th></th>\n",
       "      <th>A</th>\n",
       "      <th>C</th>\n",
       "    </tr>\n",
       "  </thead>\n",
       "  <tbody>\n",
       "    <tr>\n",
       "      <th>2013-01-02</th>\n",
       "      <td>-1.394066</td>\n",
       "      <td>0.365064</td>\n",
       "    </tr>\n",
       "    <tr>\n",
       "      <th>2013-01-03</th>\n",
       "      <td>0.201639</td>\n",
       "      <td>-0.771621</td>\n",
       "    </tr>\n",
       "    <tr>\n",
       "      <th>2013-01-05</th>\n",
       "      <td>0.928780</td>\n",
       "      <td>0.922892</td>\n",
       "    </tr>\n",
       "  </tbody>\n",
       "</table>\n",
       "</div>"
      ],
      "text/plain": [
       "                   A         C\n",
       "2013-01-02 -1.394066  0.365064\n",
       "2013-01-03  0.201639 -0.771621\n",
       "2013-01-05  0.928780  0.922892"
      ]
     },
     "execution_count": 26,
     "metadata": {},
     "output_type": "execute_result"
    }
   ],
   "source": [
    "df.iloc[[1,2,4],[0,2]]"
   ]
  },
  {
   "cell_type": "code",
   "execution_count": 27,
   "id": "3bc7fc8f",
   "metadata": {},
   "outputs": [
    {
     "data": {
      "text/html": [
       "<div>\n",
       "<style scoped>\n",
       "    .dataframe tbody tr th:only-of-type {\n",
       "        vertical-align: middle;\n",
       "    }\n",
       "\n",
       "    .dataframe tbody tr th {\n",
       "        vertical-align: top;\n",
       "    }\n",
       "\n",
       "    .dataframe thead th {\n",
       "        text-align: right;\n",
       "    }\n",
       "</style>\n",
       "<table border=\"1\" class=\"dataframe\">\n",
       "  <thead>\n",
       "    <tr style=\"text-align: right;\">\n",
       "      <th></th>\n",
       "      <th>A</th>\n",
       "      <th>B</th>\n",
       "      <th>C</th>\n",
       "      <th>D</th>\n",
       "    </tr>\n",
       "  </thead>\n",
       "  <tbody>\n",
       "    <tr>\n",
       "      <th>2013-01-02</th>\n",
       "      <td>-1.394066</td>\n",
       "      <td>0.189310</td>\n",
       "      <td>0.365064</td>\n",
       "      <td>0.524033</td>\n",
       "    </tr>\n",
       "    <tr>\n",
       "      <th>2013-01-03</th>\n",
       "      <td>0.201639</td>\n",
       "      <td>0.227478</td>\n",
       "      <td>-0.771621</td>\n",
       "      <td>0.167946</td>\n",
       "    </tr>\n",
       "  </tbody>\n",
       "</table>\n",
       "</div>"
      ],
      "text/plain": [
       "                   A         B         C         D\n",
       "2013-01-02 -1.394066  0.189310  0.365064  0.524033\n",
       "2013-01-03  0.201639  0.227478 -0.771621  0.167946"
      ]
     },
     "execution_count": 27,
     "metadata": {},
     "output_type": "execute_result"
    }
   ],
   "source": [
    "#Slicing rows explicitly\n",
    "df.iloc[1:3,:]"
   ]
  },
  {
   "cell_type": "code",
   "execution_count": 28,
   "id": "83191521",
   "metadata": {},
   "outputs": [
    {
     "data": {
      "text/html": [
       "<div>\n",
       "<style scoped>\n",
       "    .dataframe tbody tr th:only-of-type {\n",
       "        vertical-align: middle;\n",
       "    }\n",
       "\n",
       "    .dataframe tbody tr th {\n",
       "        vertical-align: top;\n",
       "    }\n",
       "\n",
       "    .dataframe thead th {\n",
       "        text-align: right;\n",
       "    }\n",
       "</style>\n",
       "<table border=\"1\" class=\"dataframe\">\n",
       "  <thead>\n",
       "    <tr style=\"text-align: right;\">\n",
       "      <th></th>\n",
       "      <th>B</th>\n",
       "      <th>C</th>\n",
       "    </tr>\n",
       "  </thead>\n",
       "  <tbody>\n",
       "    <tr>\n",
       "      <th>2013-01-01</th>\n",
       "      <td>0.007500</td>\n",
       "      <td>0.155793</td>\n",
       "    </tr>\n",
       "    <tr>\n",
       "      <th>2013-01-02</th>\n",
       "      <td>0.189310</td>\n",
       "      <td>0.365064</td>\n",
       "    </tr>\n",
       "    <tr>\n",
       "      <th>2013-01-03</th>\n",
       "      <td>0.227478</td>\n",
       "      <td>-0.771621</td>\n",
       "    </tr>\n",
       "    <tr>\n",
       "      <th>2013-01-04</th>\n",
       "      <td>0.067631</td>\n",
       "      <td>0.503081</td>\n",
       "    </tr>\n",
       "    <tr>\n",
       "      <th>2013-01-05</th>\n",
       "      <td>0.711642</td>\n",
       "      <td>0.922892</td>\n",
       "    </tr>\n",
       "    <tr>\n",
       "      <th>2013-01-06</th>\n",
       "      <td>-0.899091</td>\n",
       "      <td>-1.210832</td>\n",
       "    </tr>\n",
       "  </tbody>\n",
       "</table>\n",
       "</div>"
      ],
      "text/plain": [
       "                   B         C\n",
       "2013-01-01  0.007500  0.155793\n",
       "2013-01-02  0.189310  0.365064\n",
       "2013-01-03  0.227478 -0.771621\n",
       "2013-01-04  0.067631  0.503081\n",
       "2013-01-05  0.711642  0.922892\n",
       "2013-01-06 -0.899091 -1.210832"
      ]
     },
     "execution_count": 28,
     "metadata": {},
     "output_type": "execute_result"
    }
   ],
   "source": [
    "#sclicing columns explicitly \n",
    "df.iloc[:,1:3]"
   ]
  },
  {
   "cell_type": "code",
   "execution_count": 29,
   "id": "fe18e43c",
   "metadata": {},
   "outputs": [
    {
     "data": {
      "text/plain": [
       "0.1893098581392545"
      ]
     },
     "execution_count": 29,
     "metadata": {},
     "output_type": "execute_result"
    }
   ],
   "source": [
    "#for getting explicit value \n",
    "df.iloc[1,1]"
   ]
  },
  {
   "cell_type": "code",
   "execution_count": 30,
   "id": "5a1b556c",
   "metadata": {},
   "outputs": [
    {
     "data": {
      "text/plain": [
       "0.1893098581392545"
      ]
     },
     "execution_count": 30,
     "metadata": {},
     "output_type": "execute_result"
    }
   ],
   "source": [
    "# for getting fast access to a scalar (equivalent to previous method)\n",
    "df.iat[1,1]"
   ]
  },
  {
   "cell_type": "markdown",
   "id": "b9e7574d",
   "metadata": {},
   "source": [
    "###  Boolean indexing"
   ]
  },
  {
   "cell_type": "markdown",
   "id": "723b9401",
   "metadata": {},
   "source": [
    "Using a single column's value to select data"
   ]
  },
  {
   "cell_type": "code",
   "execution_count": 32,
   "id": "79d85524",
   "metadata": {},
   "outputs": [
    {
     "data": {
      "text/html": [
       "<div>\n",
       "<style scoped>\n",
       "    .dataframe tbody tr th:only-of-type {\n",
       "        vertical-align: middle;\n",
       "    }\n",
       "\n",
       "    .dataframe tbody tr th {\n",
       "        vertical-align: top;\n",
       "    }\n",
       "\n",
       "    .dataframe thead th {\n",
       "        text-align: right;\n",
       "    }\n",
       "</style>\n",
       "<table border=\"1\" class=\"dataframe\">\n",
       "  <thead>\n",
       "    <tr style=\"text-align: right;\">\n",
       "      <th></th>\n",
       "      <th>A</th>\n",
       "      <th>B</th>\n",
       "      <th>C</th>\n",
       "      <th>D</th>\n",
       "    </tr>\n",
       "  </thead>\n",
       "  <tbody>\n",
       "    <tr>\n",
       "      <th>2013-01-01</th>\n",
       "      <td>0.071389</td>\n",
       "      <td>0.007500</td>\n",
       "      <td>0.155793</td>\n",
       "      <td>0.678333</td>\n",
       "    </tr>\n",
       "    <tr>\n",
       "      <th>2013-01-03</th>\n",
       "      <td>0.201639</td>\n",
       "      <td>0.227478</td>\n",
       "      <td>-0.771621</td>\n",
       "      <td>0.167946</td>\n",
       "    </tr>\n",
       "    <tr>\n",
       "      <th>2013-01-05</th>\n",
       "      <td>0.928780</td>\n",
       "      <td>0.711642</td>\n",
       "      <td>0.922892</td>\n",
       "      <td>-0.697446</td>\n",
       "    </tr>\n",
       "    <tr>\n",
       "      <th>2013-01-06</th>\n",
       "      <td>0.361195</td>\n",
       "      <td>-0.899091</td>\n",
       "      <td>-1.210832</td>\n",
       "      <td>-0.322670</td>\n",
       "    </tr>\n",
       "  </tbody>\n",
       "</table>\n",
       "</div>"
      ],
      "text/plain": [
       "                   A         B         C         D\n",
       "2013-01-01  0.071389  0.007500  0.155793  0.678333\n",
       "2013-01-03  0.201639  0.227478 -0.771621  0.167946\n",
       "2013-01-05  0.928780  0.711642  0.922892 -0.697446\n",
       "2013-01-06  0.361195 -0.899091 -1.210832 -0.322670"
      ]
     },
     "execution_count": 32,
     "metadata": {},
     "output_type": "execute_result"
    }
   ],
   "source": [
    "df[df[\"A\"]>0]"
   ]
  },
  {
   "cell_type": "code",
   "execution_count": 33,
   "id": "a9c92f79",
   "metadata": {},
   "outputs": [
    {
     "data": {
      "text/html": [
       "<div>\n",
       "<style scoped>\n",
       "    .dataframe tbody tr th:only-of-type {\n",
       "        vertical-align: middle;\n",
       "    }\n",
       "\n",
       "    .dataframe tbody tr th {\n",
       "        vertical-align: top;\n",
       "    }\n",
       "\n",
       "    .dataframe thead th {\n",
       "        text-align: right;\n",
       "    }\n",
       "</style>\n",
       "<table border=\"1\" class=\"dataframe\">\n",
       "  <thead>\n",
       "    <tr style=\"text-align: right;\">\n",
       "      <th></th>\n",
       "      <th>A</th>\n",
       "      <th>B</th>\n",
       "      <th>C</th>\n",
       "      <th>D</th>\n",
       "    </tr>\n",
       "  </thead>\n",
       "  <tbody>\n",
       "    <tr>\n",
       "      <th>2013-01-01</th>\n",
       "      <td>0.071389</td>\n",
       "      <td>0.007500</td>\n",
       "      <td>0.155793</td>\n",
       "      <td>0.678333</td>\n",
       "    </tr>\n",
       "    <tr>\n",
       "      <th>2013-01-02</th>\n",
       "      <td>NaN</td>\n",
       "      <td>0.189310</td>\n",
       "      <td>0.365064</td>\n",
       "      <td>0.524033</td>\n",
       "    </tr>\n",
       "    <tr>\n",
       "      <th>2013-01-03</th>\n",
       "      <td>0.201639</td>\n",
       "      <td>0.227478</td>\n",
       "      <td>NaN</td>\n",
       "      <td>0.167946</td>\n",
       "    </tr>\n",
       "    <tr>\n",
       "      <th>2013-01-04</th>\n",
       "      <td>NaN</td>\n",
       "      <td>0.067631</td>\n",
       "      <td>0.503081</td>\n",
       "      <td>NaN</td>\n",
       "    </tr>\n",
       "    <tr>\n",
       "      <th>2013-01-05</th>\n",
       "      <td>0.928780</td>\n",
       "      <td>0.711642</td>\n",
       "      <td>0.922892</td>\n",
       "      <td>NaN</td>\n",
       "    </tr>\n",
       "    <tr>\n",
       "      <th>2013-01-06</th>\n",
       "      <td>0.361195</td>\n",
       "      <td>NaN</td>\n",
       "      <td>NaN</td>\n",
       "      <td>NaN</td>\n",
       "    </tr>\n",
       "  </tbody>\n",
       "</table>\n",
       "</div>"
      ],
      "text/plain": [
       "                   A         B         C         D\n",
       "2013-01-01  0.071389  0.007500  0.155793  0.678333\n",
       "2013-01-02       NaN  0.189310  0.365064  0.524033\n",
       "2013-01-03  0.201639  0.227478       NaN  0.167946\n",
       "2013-01-04       NaN  0.067631  0.503081       NaN\n",
       "2013-01-05  0.928780  0.711642  0.922892       NaN\n",
       "2013-01-06  0.361195       NaN       NaN       NaN"
      ]
     },
     "execution_count": 33,
     "metadata": {},
     "output_type": "execute_result"
    }
   ],
   "source": [
    "#selecting values from a DataFrame where a boolean condition is met\n",
    "df[df>0]"
   ]
  },
  {
   "cell_type": "markdown",
   "id": "db283d31",
   "metadata": {},
   "source": [
    "Use ***isin()*** method for filtering"
   ]
  },
  {
   "cell_type": "code",
   "execution_count": 35,
   "id": "cf23fea4",
   "metadata": {},
   "outputs": [
    {
     "data": {
      "text/html": [
       "<div>\n",
       "<style scoped>\n",
       "    .dataframe tbody tr th:only-of-type {\n",
       "        vertical-align: middle;\n",
       "    }\n",
       "\n",
       "    .dataframe tbody tr th {\n",
       "        vertical-align: top;\n",
       "    }\n",
       "\n",
       "    .dataframe thead th {\n",
       "        text-align: right;\n",
       "    }\n",
       "</style>\n",
       "<table border=\"1\" class=\"dataframe\">\n",
       "  <thead>\n",
       "    <tr style=\"text-align: right;\">\n",
       "      <th></th>\n",
       "      <th>A</th>\n",
       "      <th>B</th>\n",
       "      <th>C</th>\n",
       "      <th>D</th>\n",
       "      <th>E</th>\n",
       "    </tr>\n",
       "  </thead>\n",
       "  <tbody>\n",
       "    <tr>\n",
       "      <th>2013-01-01</th>\n",
       "      <td>0.071389</td>\n",
       "      <td>0.007500</td>\n",
       "      <td>0.155793</td>\n",
       "      <td>0.678333</td>\n",
       "      <td>one</td>\n",
       "    </tr>\n",
       "    <tr>\n",
       "      <th>2013-01-02</th>\n",
       "      <td>-1.394066</td>\n",
       "      <td>0.189310</td>\n",
       "      <td>0.365064</td>\n",
       "      <td>0.524033</td>\n",
       "      <td>one</td>\n",
       "    </tr>\n",
       "    <tr>\n",
       "      <th>2013-01-03</th>\n",
       "      <td>0.201639</td>\n",
       "      <td>0.227478</td>\n",
       "      <td>-0.771621</td>\n",
       "      <td>0.167946</td>\n",
       "      <td>two</td>\n",
       "    </tr>\n",
       "    <tr>\n",
       "      <th>2013-01-04</th>\n",
       "      <td>-0.084451</td>\n",
       "      <td>0.067631</td>\n",
       "      <td>0.503081</td>\n",
       "      <td>-0.584886</td>\n",
       "      <td>three</td>\n",
       "    </tr>\n",
       "    <tr>\n",
       "      <th>2013-01-05</th>\n",
       "      <td>0.928780</td>\n",
       "      <td>0.711642</td>\n",
       "      <td>0.922892</td>\n",
       "      <td>-0.697446</td>\n",
       "      <td>four</td>\n",
       "    </tr>\n",
       "    <tr>\n",
       "      <th>2013-01-06</th>\n",
       "      <td>0.361195</td>\n",
       "      <td>-0.899091</td>\n",
       "      <td>-1.210832</td>\n",
       "      <td>-0.322670</td>\n",
       "      <td>three</td>\n",
       "    </tr>\n",
       "  </tbody>\n",
       "</table>\n",
       "</div>"
      ],
      "text/plain": [
       "                   A         B         C         D      E\n",
       "2013-01-01  0.071389  0.007500  0.155793  0.678333    one\n",
       "2013-01-02 -1.394066  0.189310  0.365064  0.524033    one\n",
       "2013-01-03  0.201639  0.227478 -0.771621  0.167946    two\n",
       "2013-01-04 -0.084451  0.067631  0.503081 -0.584886  three\n",
       "2013-01-05  0.928780  0.711642  0.922892 -0.697446   four\n",
       "2013-01-06  0.361195 -0.899091 -1.210832 -0.322670  three"
      ]
     },
     "execution_count": 35,
     "metadata": {},
     "output_type": "execute_result"
    }
   ],
   "source": [
    "df2= df.copy()\n",
    "df2[\"E\"] = [\"one\", \"one\", \"two\", \"three\", \"four\", \"three\"]\n",
    "df2"
   ]
  },
  {
   "cell_type": "code",
   "execution_count": 36,
   "id": "06d07c92",
   "metadata": {},
   "outputs": [
    {
     "data": {
      "text/html": [
       "<div>\n",
       "<style scoped>\n",
       "    .dataframe tbody tr th:only-of-type {\n",
       "        vertical-align: middle;\n",
       "    }\n",
       "\n",
       "    .dataframe tbody tr th {\n",
       "        vertical-align: top;\n",
       "    }\n",
       "\n",
       "    .dataframe thead th {\n",
       "        text-align: right;\n",
       "    }\n",
       "</style>\n",
       "<table border=\"1\" class=\"dataframe\">\n",
       "  <thead>\n",
       "    <tr style=\"text-align: right;\">\n",
       "      <th></th>\n",
       "      <th>A</th>\n",
       "      <th>B</th>\n",
       "      <th>C</th>\n",
       "      <th>D</th>\n",
       "      <th>E</th>\n",
       "    </tr>\n",
       "  </thead>\n",
       "  <tbody>\n",
       "    <tr>\n",
       "      <th>2013-01-03</th>\n",
       "      <td>0.201639</td>\n",
       "      <td>0.227478</td>\n",
       "      <td>-0.771621</td>\n",
       "      <td>0.167946</td>\n",
       "      <td>two</td>\n",
       "    </tr>\n",
       "    <tr>\n",
       "      <th>2013-01-05</th>\n",
       "      <td>0.928780</td>\n",
       "      <td>0.711642</td>\n",
       "      <td>0.922892</td>\n",
       "      <td>-0.697446</td>\n",
       "      <td>four</td>\n",
       "    </tr>\n",
       "  </tbody>\n",
       "</table>\n",
       "</div>"
      ],
      "text/plain": [
       "                   A         B         C         D     E\n",
       "2013-01-03  0.201639  0.227478 -0.771621  0.167946   two\n",
       "2013-01-05  0.928780  0.711642  0.922892 -0.697446  four"
      ]
     },
     "execution_count": 36,
     "metadata": {},
     "output_type": "execute_result"
    }
   ],
   "source": [
    "df2[df2[\"E\"].isin([\"two\", \"four\"])]"
   ]
  },
  {
   "cell_type": "code",
   "execution_count": null,
   "id": "deeacb9d",
   "metadata": {},
   "outputs": [],
   "source": []
  }
 ],
 "metadata": {
  "kernelspec": {
   "display_name": "Python 3 (ipykernel)",
   "language": "python",
   "name": "python3"
  },
  "language_info": {
   "codemirror_mode": {
    "name": "ipython",
    "version": 3
   },
   "file_extension": ".py",
   "mimetype": "text/x-python",
   "name": "python",
   "nbconvert_exporter": "python",
   "pygments_lexer": "ipython3",
   "version": "3.9.12"
  }
 },
 "nbformat": 4,
 "nbformat_minor": 5
}
