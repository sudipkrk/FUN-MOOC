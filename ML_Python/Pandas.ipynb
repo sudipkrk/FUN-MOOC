{
 "cells": [
  {
   "cell_type": "markdown",
   "id": "2def1f86",
   "metadata": {},
   "source": [
    "## Pandas\n",
    "Learning basics of pandas from pandas website [10 minutes to pandas](https://pandas.pydata.org/pandas-docs/stable/user_guide/10min.html). "
   ]
  },
  {
   "cell_type": "markdown",
   "id": "af309ea6",
   "metadata": {},
   "source": [
    "### Import essentials:\n",
    "Import **NumPy** and **Pandas**."
   ]
  },
  {
   "cell_type": "code",
   "execution_count": 2,
   "id": "190ebbf6",
   "metadata": {},
   "outputs": [],
   "source": [
    "### Import numpy and pandas \n",
    "import numpy as np\n",
    "import pandas as pd"
   ]
  },
  {
   "cell_type": "markdown",
   "id": "29e8b003",
   "metadata": {},
   "source": [
    "### Object creation"
   ]
  },
  {
   "cell_type": "code",
   "execution_count": 6,
   "id": "1baa48a7",
   "metadata": {},
   "outputs": [
    {
     "data": {
      "text/plain": [
       "0    1.0\n",
       "1    2.0\n",
       "2    3.0\n",
       "3    4.0\n",
       "4    NaN\n",
       "5    5.0\n",
       "6    6.0\n",
       "7    7.0\n",
       "dtype: float64"
      ]
     },
     "execution_count": 6,
     "metadata": {},
     "output_type": "execute_result"
    }
   ],
   "source": [
    "# Create a series by passing the list of values \n",
    "A = pd.Series([1,2,3,4,np.nan,5,6,7])\n",
    "\n",
    "#Display the results\n",
    "A\n"
   ]
  },
  {
   "cell_type": "code",
   "execution_count": 9,
   "id": "bb815412",
   "metadata": {},
   "outputs": [
    {
     "data": {
      "text/html": [
       "<div>\n",
       "<style scoped>\n",
       "    .dataframe tbody tr th:only-of-type {\n",
       "        vertical-align: middle;\n",
       "    }\n",
       "\n",
       "    .dataframe tbody tr th {\n",
       "        vertical-align: top;\n",
       "    }\n",
       "\n",
       "    .dataframe thead th {\n",
       "        text-align: right;\n",
       "    }\n",
       "</style>\n",
       "<table border=\"1\" class=\"dataframe\">\n",
       "  <thead>\n",
       "    <tr style=\"text-align: right;\">\n",
       "      <th></th>\n",
       "      <th>A</th>\n",
       "      <th>B</th>\n",
       "      <th>C</th>\n",
       "      <th>D</th>\n",
       "    </tr>\n",
       "  </thead>\n",
       "  <tbody>\n",
       "    <tr>\n",
       "      <th>2013-01-01</th>\n",
       "      <td>0.255183</td>\n",
       "      <td>1.108342</td>\n",
       "      <td>2.050925</td>\n",
       "      <td>0.161421</td>\n",
       "    </tr>\n",
       "    <tr>\n",
       "      <th>2013-01-02</th>\n",
       "      <td>-0.254728</td>\n",
       "      <td>0.649062</td>\n",
       "      <td>0.184206</td>\n",
       "      <td>0.579560</td>\n",
       "    </tr>\n",
       "    <tr>\n",
       "      <th>2013-01-03</th>\n",
       "      <td>-1.637417</td>\n",
       "      <td>2.521296</td>\n",
       "      <td>-0.171504</td>\n",
       "      <td>0.993548</td>\n",
       "    </tr>\n",
       "    <tr>\n",
       "      <th>2013-01-04</th>\n",
       "      <td>0.638451</td>\n",
       "      <td>-0.503608</td>\n",
       "      <td>1.382114</td>\n",
       "      <td>-0.260268</td>\n",
       "    </tr>\n",
       "    <tr>\n",
       "      <th>2013-01-05</th>\n",
       "      <td>0.400332</td>\n",
       "      <td>0.407160</td>\n",
       "      <td>-0.056935</td>\n",
       "      <td>-0.116763</td>\n",
       "    </tr>\n",
       "    <tr>\n",
       "      <th>2013-01-06</th>\n",
       "      <td>0.870945</td>\n",
       "      <td>1.431000</td>\n",
       "      <td>-1.077896</td>\n",
       "      <td>-0.510019</td>\n",
       "    </tr>\n",
       "  </tbody>\n",
       "</table>\n",
       "</div>"
      ],
      "text/plain": [
       "                   A         B         C         D\n",
       "2013-01-01  0.255183  1.108342  2.050925  0.161421\n",
       "2013-01-02 -0.254728  0.649062  0.184206  0.579560\n",
       "2013-01-03 -1.637417  2.521296 -0.171504  0.993548\n",
       "2013-01-04  0.638451 -0.503608  1.382114 -0.260268\n",
       "2013-01-05  0.400332  0.407160 -0.056935 -0.116763\n",
       "2013-01-06  0.870945  1.431000 -1.077896 -0.510019"
      ]
     },
     "execution_count": 9,
     "metadata": {},
     "output_type": "execute_result"
    }
   ],
   "source": [
    "# Create a dataframe by passing NumPy array with date time indexing using data_range() and labelled column\n",
    "dates = pd.date_range(\"20130101\", periods = 6)\n",
    "dates\n",
    "\n",
    "df = pd.DataFrame(np.random.randn(6,4), index= dates, columns=list(\"ABCD\"))\n",
    "df"
   ]
  },
  {
   "cell_type": "markdown",
   "id": "ea64683a",
   "metadata": {},
   "source": [
    "Create a data frame by passing a dictionary of objects that can be converted into a series-like structure."
   ]
  },
  {
   "cell_type": "code",
   "execution_count": 11,
   "id": "7e9f666e",
   "metadata": {},
   "outputs": [
    {
     "data": {
      "text/html": [
       "<div>\n",
       "<style scoped>\n",
       "    .dataframe tbody tr th:only-of-type {\n",
       "        vertical-align: middle;\n",
       "    }\n",
       "\n",
       "    .dataframe tbody tr th {\n",
       "        vertical-align: top;\n",
       "    }\n",
       "\n",
       "    .dataframe thead th {\n",
       "        text-align: right;\n",
       "    }\n",
       "</style>\n",
       "<table border=\"1\" class=\"dataframe\">\n",
       "  <thead>\n",
       "    <tr style=\"text-align: right;\">\n",
       "      <th></th>\n",
       "      <th>A</th>\n",
       "      <th>B</th>\n",
       "      <th>C</th>\n",
       "      <th>D</th>\n",
       "      <th>E</th>\n",
       "      <th>F</th>\n",
       "    </tr>\n",
       "  </thead>\n",
       "  <tbody>\n",
       "    <tr>\n",
       "      <th>0</th>\n",
       "      <td>1.0</td>\n",
       "      <td>2013-01-01</td>\n",
       "      <td>1.0</td>\n",
       "      <td>3</td>\n",
       "      <td>test</td>\n",
       "      <td>foo</td>\n",
       "    </tr>\n",
       "    <tr>\n",
       "      <th>1</th>\n",
       "      <td>1.0</td>\n",
       "      <td>2013-01-01</td>\n",
       "      <td>1.0</td>\n",
       "      <td>3</td>\n",
       "      <td>train</td>\n",
       "      <td>foo</td>\n",
       "    </tr>\n",
       "    <tr>\n",
       "      <th>2</th>\n",
       "      <td>1.0</td>\n",
       "      <td>2013-01-01</td>\n",
       "      <td>1.0</td>\n",
       "      <td>3</td>\n",
       "      <td>test</td>\n",
       "      <td>foo</td>\n",
       "    </tr>\n",
       "    <tr>\n",
       "      <th>3</th>\n",
       "      <td>1.0</td>\n",
       "      <td>2013-01-01</td>\n",
       "      <td>1.0</td>\n",
       "      <td>3</td>\n",
       "      <td>train</td>\n",
       "      <td>foo</td>\n",
       "    </tr>\n",
       "  </tbody>\n",
       "</table>\n",
       "</div>"
      ],
      "text/plain": [
       "     A          B    C  D      E    F\n",
       "0  1.0 2013-01-01  1.0  3   test  foo\n",
       "1  1.0 2013-01-01  1.0  3  train  foo\n",
       "2  1.0 2013-01-01  1.0  3   test  foo\n",
       "3  1.0 2013-01-01  1.0  3  train  foo"
      ]
     },
     "execution_count": 11,
     "metadata": {},
     "output_type": "execute_result"
    }
   ],
   "source": [
    "df2 = pd.DataFrame({\n",
    "    \"A\":1.0,\n",
    "    \"B\":pd.Timestamp(\"20130101\"),\n",
    "    \"C\":pd.Series(1, index=list(range(4)), dtype= \"float32\"),\n",
    "    \"D\":np.array([3] *4, dtype= \"int32\"),\n",
    "    \"E\":pd.Categorical([\"test\", \"train\", \"test\", \"train\"]),\n",
    "    \"F\":\"foo\"\n",
    "})\n",
    "\n",
    "df2"
   ]
  },
  {
   "cell_type": "markdown",
   "id": "72fd7e11",
   "metadata": {},
   "source": [
    "Know the different datatypes in the data frame \n"
   ]
  },
  {
   "cell_type": "code",
   "execution_count": 12,
   "id": "e281b455",
   "metadata": {},
   "outputs": [
    {
     "data": {
      "text/plain": [
       "A           float64\n",
       "B    datetime64[ns]\n",
       "C           float32\n",
       "D             int32\n",
       "E          category\n",
       "F            object\n",
       "dtype: object"
      ]
     },
     "execution_count": 12,
     "metadata": {},
     "output_type": "execute_result"
    }
   ],
   "source": [
    "df2.dtypes"
   ]
  },
  {
   "cell_type": "markdown",
   "id": "e6dc2ab9",
   "metadata": {},
   "source": [
    "Viewing data "
   ]
  },
  {
   "cell_type": "code",
   "execution_count": 13,
   "id": "748e86a0",
   "metadata": {},
   "outputs": [
    {
     "data": {
      "text/html": [
       "<div>\n",
       "<style scoped>\n",
       "    .dataframe tbody tr th:only-of-type {\n",
       "        vertical-align: middle;\n",
       "    }\n",
       "\n",
       "    .dataframe tbody tr th {\n",
       "        vertical-align: top;\n",
       "    }\n",
       "\n",
       "    .dataframe thead th {\n",
       "        text-align: right;\n",
       "    }\n",
       "</style>\n",
       "<table border=\"1\" class=\"dataframe\">\n",
       "  <thead>\n",
       "    <tr style=\"text-align: right;\">\n",
       "      <th></th>\n",
       "      <th>A</th>\n",
       "      <th>B</th>\n",
       "      <th>C</th>\n",
       "      <th>D</th>\n",
       "    </tr>\n",
       "  </thead>\n",
       "  <tbody>\n",
       "    <tr>\n",
       "      <th>2013-01-01</th>\n",
       "      <td>0.255183</td>\n",
       "      <td>1.108342</td>\n",
       "      <td>2.050925</td>\n",
       "      <td>0.161421</td>\n",
       "    </tr>\n",
       "    <tr>\n",
       "      <th>2013-01-02</th>\n",
       "      <td>-0.254728</td>\n",
       "      <td>0.649062</td>\n",
       "      <td>0.184206</td>\n",
       "      <td>0.579560</td>\n",
       "    </tr>\n",
       "    <tr>\n",
       "      <th>2013-01-03</th>\n",
       "      <td>-1.637417</td>\n",
       "      <td>2.521296</td>\n",
       "      <td>-0.171504</td>\n",
       "      <td>0.993548</td>\n",
       "    </tr>\n",
       "    <tr>\n",
       "      <th>2013-01-04</th>\n",
       "      <td>0.638451</td>\n",
       "      <td>-0.503608</td>\n",
       "      <td>1.382114</td>\n",
       "      <td>-0.260268</td>\n",
       "    </tr>\n",
       "    <tr>\n",
       "      <th>2013-01-05</th>\n",
       "      <td>0.400332</td>\n",
       "      <td>0.407160</td>\n",
       "      <td>-0.056935</td>\n",
       "      <td>-0.116763</td>\n",
       "    </tr>\n",
       "  </tbody>\n",
       "</table>\n",
       "</div>"
      ],
      "text/plain": [
       "                   A         B         C         D\n",
       "2013-01-01  0.255183  1.108342  2.050925  0.161421\n",
       "2013-01-02 -0.254728  0.649062  0.184206  0.579560\n",
       "2013-01-03 -1.637417  2.521296 -0.171504  0.993548\n",
       "2013-01-04  0.638451 -0.503608  1.382114 -0.260268\n",
       "2013-01-05  0.400332  0.407160 -0.056935 -0.116763"
      ]
     },
     "execution_count": 13,
     "metadata": {},
     "output_type": "execute_result"
    }
   ],
   "source": [
    "df.head() #for the top rows"
   ]
  },
  {
   "cell_type": "code",
   "execution_count": 14,
   "id": "e905597f",
   "metadata": {},
   "outputs": [
    {
     "data": {
      "text/html": [
       "<div>\n",
       "<style scoped>\n",
       "    .dataframe tbody tr th:only-of-type {\n",
       "        vertical-align: middle;\n",
       "    }\n",
       "\n",
       "    .dataframe tbody tr th {\n",
       "        vertical-align: top;\n",
       "    }\n",
       "\n",
       "    .dataframe thead th {\n",
       "        text-align: right;\n",
       "    }\n",
       "</style>\n",
       "<table border=\"1\" class=\"dataframe\">\n",
       "  <thead>\n",
       "    <tr style=\"text-align: right;\">\n",
       "      <th></th>\n",
       "      <th>A</th>\n",
       "      <th>B</th>\n",
       "      <th>C</th>\n",
       "      <th>D</th>\n",
       "    </tr>\n",
       "  </thead>\n",
       "  <tbody>\n",
       "    <tr>\n",
       "      <th>2013-01-04</th>\n",
       "      <td>0.638451</td>\n",
       "      <td>-0.503608</td>\n",
       "      <td>1.382114</td>\n",
       "      <td>-0.260268</td>\n",
       "    </tr>\n",
       "    <tr>\n",
       "      <th>2013-01-05</th>\n",
       "      <td>0.400332</td>\n",
       "      <td>0.407160</td>\n",
       "      <td>-0.056935</td>\n",
       "      <td>-0.116763</td>\n",
       "    </tr>\n",
       "    <tr>\n",
       "      <th>2013-01-06</th>\n",
       "      <td>0.870945</td>\n",
       "      <td>1.431000</td>\n",
       "      <td>-1.077896</td>\n",
       "      <td>-0.510019</td>\n",
       "    </tr>\n",
       "  </tbody>\n",
       "</table>\n",
       "</div>"
      ],
      "text/plain": [
       "                   A         B         C         D\n",
       "2013-01-04  0.638451 -0.503608  1.382114 -0.260268\n",
       "2013-01-05  0.400332  0.407160 -0.056935 -0.116763\n",
       "2013-01-06  0.870945  1.431000 -1.077896 -0.510019"
      ]
     },
     "execution_count": 14,
     "metadata": {},
     "output_type": "execute_result"
    }
   ],
   "source": [
    "df.tail(3) #bottom 3 rows"
   ]
  },
  {
   "cell_type": "code",
   "execution_count": null,
   "id": "b7dad5ca",
   "metadata": {},
   "outputs": [],
   "source": []
  }
 ],
 "metadata": {
  "kernelspec": {
   "display_name": "Python 3 (ipykernel)",
   "language": "python",
   "name": "python3"
  },
  "language_info": {
   "codemirror_mode": {
    "name": "ipython",
    "version": 3
   },
   "file_extension": ".py",
   "mimetype": "text/x-python",
   "name": "python",
   "nbconvert_exporter": "python",
   "pygments_lexer": "ipython3",
   "version": "3.9.12"
  }
 },
 "nbformat": 4,
 "nbformat_minor": 5
}
